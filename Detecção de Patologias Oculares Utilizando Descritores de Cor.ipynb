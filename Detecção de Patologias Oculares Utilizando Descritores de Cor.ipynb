{
 "cells": [
  {
   "cell_type": "markdown",
   "metadata": {},
   "source": [
    "### Detecção de Patologias Oculares em Imagens Reflexo Vermelho Utilizando Descritores de Cor"
   ]
  },
  {
   "cell_type": "markdown",
   "metadata": {},
   "source": [
    "##### Carregar bibliotecas necessárias"
   ]
  },
  {
   "cell_type": "code",
   "execution_count": 1,
   "metadata": {},
   "outputs": [],
   "source": [
    "import glob\n",
    "import cv2\n",
    "\n",
    "import numpy as np\n",
    "\n",
    "# dominant color\n",
    "from sklearn.cluster import KMeans\n",
    "\n",
    "# color moments\n",
    "from scipy.stats import skew, kurtosis\n",
    "\n",
    "import pandas as pd\n",
    "\n",
    "# classifier\n",
    "from sklearn.model_selection import train_test_split, cross_val_score, GridSearchCV\n",
    "from sklearn.svm import SVC\n",
    "from sklearn.ensemble import RandomForestClassifier\n",
    "import sklearn.metrics\n",
    "\n",
    "from hyperopt import fmin, tpe, hp, STATUS_OK, Trials"
   ]
  },
  {
   "cell_type": "markdown",
   "metadata": {},
   "source": [
    "### 1. Carregar Imagens"
   ]
  },
  {
   "cell_type": "code",
   "execution_count": 2,
   "metadata": {},
   "outputs": [],
   "source": [
    "DIR_IMGS_NORMAIS  = \"./data/olhos/normal\"\n",
    "DIR_IMGS_PROBLEMA = \"./data/olhos/problema\"\n",
    "\n",
    "DIR_MARCACOES_NORMAIS  = \"./data/marcacoes/normal\"\n",
    "DIR_MARCACOES_PROBLEMA = \"./data/marcacoes/normal\""
   ]
  },
  {
   "cell_type": "code",
   "execution_count": 3,
   "metadata": {},
   "outputs": [],
   "source": [
    "def load_images(path, label):\n",
    "    imgs, labels = [], []\n",
    "    \n",
    "    # select every .jpg file from directory\n",
    "    for file in glob.iglob(path + '/*.jpg'):\n",
    "    \n",
    "        img  = cv2.imread(file)\n",
    "        img  = cv2.cvtColor(img, cv2.COLOR_BGR2RGB)\n",
    "                   \n",
    "        imgs.append(img)\n",
    "        labels.append(label)\n",
    "    \n",
    "    return imgs, labels"
   ]
  },
  {
   "cell_type": "markdown",
   "metadata": {},
   "source": [
    "### 2. Realizar Pré Processamento"
   ]
  },
  {
   "cell_type": "markdown",
   "metadata": {},
   "source": [
    "##### Equalização de Histograma"
   ]
  },
  {
   "cell_type": "code",
   "execution_count": 4,
   "metadata": {},
   "outputs": [],
   "source": [
    "def equalize_hist(img):\n",
    "    \n",
    "    r, g, b = cv2.split(img)\n",
    "    \n",
    "    r_eq = cv2.equalizeHist(r)\n",
    "    g_eq = cv2.equalizeHist(g)\n",
    "    b_eq = cv2.equalizeHist(b)\n",
    "        \n",
    "    img_eq = cv2.merge((r_eq, g_eq, b_eq))\n",
    "    \n",
    "    return img_eq"
   ]
  },
  {
   "cell_type": "markdown",
   "metadata": {},
   "source": [
    "##### Contraste CLAHE"
   ]
  },
  {
   "cell_type": "code",
   "execution_count": 5,
   "metadata": {},
   "outputs": [],
   "source": [
    "def apply_clahe(img):\n",
    "    # clahe creation (todo: optimize!)\n",
    "    clahe = cv2.createCLAHE(clipLimit=3, tileGridSize=(8, 8))\n",
    "    \n",
    "    img_lab = cv2.cvtColor(img, cv2.COLOR_RGB2LAB)\n",
    "    \n",
    "    l, a, b = cv2.split(img_lab)\n",
    "    l = clahe.apply(l)\n",
    "\n",
    "    img_clahe = cv2.merge((l, a, b))\n",
    "    img_clahe = cv2.cvtColor(img_clahe, cv2.COLOR_LAB2RGB)\n",
    "        \n",
    "    return img_clahe"
   ]
  },
  {
   "cell_type": "markdown",
   "metadata": {},
   "source": [
    "##### Cores Opostas"
   ]
  },
  {
   "cell_type": "code",
   "execution_count": 6,
   "metadata": {},
   "outputs": [],
   "source": [
    "def opposite_colors(img):\n",
    "    return 255 - img"
   ]
  },
  {
   "cell_type": "markdown",
   "metadata": {},
   "source": [
    "##### Função Geral"
   ]
  },
  {
   "cell_type": "code",
   "execution_count": 7,
   "metadata": {},
   "outputs": [],
   "source": [
    "def apply_preprocess(img, method):\n",
    "    if method == 'eqlze':\n",
    "        return equalize_hist(img)\n",
    "    \n",
    "    elif method == 'clahe':\n",
    "        return apply_clahe(img)\n",
    "    \n",
    "    elif method == 'oppcl':\n",
    "        return opposite_colors(img)\n",
    "    \n",
    "    else:\n",
    "        return img"
   ]
  },
  {
   "cell_type": "markdown",
   "metadata": {},
   "source": [
    "### 3. Definir Espectro de Cor"
   ]
  },
  {
   "cell_type": "markdown",
   "metadata": {},
   "source": [
    "##### Função Geral"
   ]
  },
  {
   "cell_type": "code",
   "execution_count": 8,
   "metadata": {},
   "outputs": [],
   "source": [
    "def define_spectrum(img, spectrum):\n",
    "    if spectrum == 'hsv':\n",
    "        return cv2.cvtColor(img, cv2.COLOR_RGB2HSV)\n",
    "    \n",
    "    elif spectrum == 'lab':\n",
    "        return cv2.cvtColor(img, cv2.COLOR_RGB2Lab)\n",
    "    \n",
    "    else:\n",
    "        return img"
   ]
  },
  {
   "cell_type": "markdown",
   "metadata": {},
   "source": [
    "### 4. Aplicar Máscara (ou não)"
   ]
  },
  {
   "cell_type": "code",
   "execution_count": 9,
   "metadata": {},
   "outputs": [],
   "source": [
    "def apply_masks(imgs, masks_path):\n",
    "    \n",
    "    imgs_mask = []\n",
    "    \n",
    "    for img, file in zip(imgs,\n",
    "                         glob.iglob(masks_path + '/*.jpg')):\n",
    "        \n",
    "        mask     = cv2.imread(file, 0)\n",
    "        img_mask = cv2.bitwise_and(img, img, mask = mask)\n",
    "        imgs_mask.append(img_mask)\n",
    "    \n",
    "    return imgs_mask"
   ]
  },
  {
   "cell_type": "markdown",
   "metadata": {},
   "source": [
    "### 5. Extrair características com descritores de cor"
   ]
  },
  {
   "cell_type": "markdown",
   "metadata": {},
   "source": [
    "##### Histograma de Cor"
   ]
  },
  {
   "cell_type": "code",
   "execution_count": 10,
   "metadata": {},
   "outputs": [],
   "source": [
    "def color_histogram(img):\n",
    "    hist = []\n",
    "    \n",
    "    for channel in cv2.split(img):\n",
    "        hist.extend(cv2.calcHist([channel], [0], None, [256], [0, 256]))\n",
    "    \n",
    "    hist = np.concatenate(np.array(hist), axis = 0)\n",
    "    \n",
    "    return hist"
   ]
  },
  {
   "cell_type": "markdown",
   "metadata": {},
   "source": [
    "##### Descritor de Cor Dominante"
   ]
  },
  {
   "cell_type": "code",
   "execution_count": 11,
   "metadata": {},
   "outputs": [],
   "source": [
    "def dominant_color(img):\n",
    "    \n",
    "    img = img.reshape((img.shape[0] * img.shape[1],3))\n",
    "    clt = KMeans(n_clusters=3)\n",
    "    clt.fit(img)\n",
    "\n",
    "    dominant = np.concatenate(clt.cluster_centers_, axis = 0)\n",
    "    \n",
    "    return dominant"
   ]
  },
  {
   "cell_type": "markdown",
   "metadata": {},
   "source": [
    "##### Momentos de Cor"
   ]
  },
  {
   "cell_type": "code",
   "execution_count": 12,
   "metadata": {},
   "outputs": [],
   "source": [
    "def color_moments(img):\n",
    "    \n",
    "    moments = []\n",
    "    \n",
    "    for ch in cv2.split(img):\n",
    "        \n",
    "        # first color moment\n",
    "        mean      = np.mean(ch)\n",
    "        moments.append(mean)\n",
    "        \n",
    "        # second color moment\n",
    "        variance  = np.var(ch)\n",
    "        moments.append(variance)\n",
    "\n",
    "        # third color moment\n",
    "        skewness  = skew(ch.reshape(-1))\n",
    "        moments.append(skewness)\n",
    "        \n",
    "        # forth color moment\n",
    "        kurt      = kurtosis(ch.reshape(-1))\n",
    "        moments.append(kurt)\n",
    "    \n",
    "    moments = np.array(moments)\n",
    "    \n",
    "    return moments"
   ]
  },
  {
   "cell_type": "markdown",
   "metadata": {},
   "source": [
    "##### Função Geral"
   ]
  },
  {
   "cell_type": "code",
   "execution_count": 13,
   "metadata": {},
   "outputs": [],
   "source": [
    "def apply_color_descriptor(img, descriptor):\n",
    "    if descriptor == 'histogrm':\n",
    "        return color_histogram(img)\n",
    "    \n",
    "    elif descriptor == 'dominant':\n",
    "        return dominant_color(img)\n",
    "    \n",
    "    else:\n",
    "        return color_moments(img)"
   ]
  },
  {
   "cell_type": "markdown",
   "metadata": {},
   "source": [
    "### 6. Classificação e Funções Auxiliares"
   ]
  },
  {
   "cell_type": "markdown",
   "metadata": {},
   "source": [
    "##### Função para salvar os resultados do modelo em um .csv"
   ]
  },
  {
   "cell_type": "code",
   "execution_count": 14,
   "metadata": {},
   "outputs": [],
   "source": [
    "def save_results(chosen_params, cv_scores, scores):\n",
    "    # chosen_params\n",
    "    result = f'{chosen_params};'\n",
    "    \n",
    "    # save all scores in result\n",
    "    for score in scores:\n",
    "        result += f'{score};'\n",
    "    \n",
    "    # cross validation mean\n",
    "    result += f'{np.mean(cv_scores)};'\n",
    "    \n",
    "    # cross validations\n",
    "    for score in cv_scores:\n",
    "        result += f'{score};'\n",
    "    \n",
    "    # break line\n",
    "    result += '\\n'\n",
    "    \n",
    "    # save results\n",
    "    with open('results.csv','a') as file:\n",
    "        file.write(result)\n",
    "    \n",
    "    # return accuracy\n",
    "    return scores[7]"
   ]
  },
  {
   "cell_type": "markdown",
   "metadata": {},
   "source": [
    "##### Funções auxiliares para calcular scores do modelo"
   ]
  },
  {
   "cell_type": "code",
   "execution_count": 15,
   "metadata": {},
   "outputs": [],
   "source": [
    "def get_metrics(tn, fp, fn, tp):\n",
    "    # precision\n",
    "    if tp + fp > 0:\n",
    "        pre = tp / (tp + fp)\n",
    "    else:\n",
    "        pre = 0\n",
    "    \n",
    "    # sensibility\n",
    "    sen = tp / (tp + fn)\n",
    "    \n",
    "    # especificity\n",
    "    esp = tn / (tn + fp)\n",
    "    \n",
    "    # acuracy\n",
    "    acc = (tp + tn) / (tp + tn + fp + fn)\n",
    "    \n",
    "    return pre, sen, esp, acc"
   ]
  },
  {
   "cell_type": "code",
   "execution_count": 16,
   "metadata": {},
   "outputs": [],
   "source": [
    "def get_model_scores(model, X_test, y_test):\n",
    "    # predict\n",
    "    y_pred             = model.predict(X_test)\n",
    "    \n",
    "    # get confusion matrix\n",
    "    tn, fp, fn, tp     = (sklearn.metrics.confusion_matrix(y_test, y_pred)).ravel()\n",
    "    \n",
    "    # get_scores\n",
    "    pre, sen, esp, acc = get_metrics(tn, fp, fn, tp)\n",
    "    \n",
    "    results = [tn, fp, fn, tp, pre, sen, esp, acc]\n",
    "    \n",
    "    return results"
   ]
  },
  {
   "cell_type": "markdown",
   "metadata": {},
   "source": [
    "##### SVM"
   ]
  },
  {
   "cell_type": "code",
   "execution_count": 17,
   "metadata": {},
   "outputs": [],
   "source": [
    "def train_with_SVM(features, labels):\n",
    "    \n",
    "    X_train, X_test, y_train, y_test = train_test_split(features, labels, test_size = 0.33, random_state = 42)\n",
    "    \n",
    "    # model creation and parameters optimization\n",
    "    parameters = [{'kernel': ['linear', 'rbf'],\n",
    "                   'C': [1, 10, 100, 1000],\n",
    "                   'gamma': [0.01, 0.001, 0.0001]}]\n",
    "    \n",
    "    clf        = SVC()\n",
    "    model      = GridSearchCV(clf, parameters, scoring = 'accuracy').fit(X_train, y_train)\n",
    "    \n",
    "    # cross-validation scores\n",
    "    #cv_scores = cross_val_score(model, features, labels, cv = 10)\n",
    "    cv_scores  = range(10)\n",
    "    \n",
    "    # model scores\n",
    "    scores    = get_model_scores(model, X_test, y_test)\n",
    "\n",
    "    return cv_scores, scores "
   ]
  },
  {
   "cell_type": "markdown",
   "metadata": {},
   "source": [
    "##### Random Forest"
   ]
  },
  {
   "cell_type": "code",
   "execution_count": 18,
   "metadata": {},
   "outputs": [],
   "source": [
    "def train_with_RF(features, labels):\n",
    "    \n",
    "    X_train, X_test, y_train, y_test = train_test_split(features, labels, test_size = 0.33, random_state = 42)\n",
    "\n",
    "    # model creation and parameters optimization\n",
    "    parameters = [{'criterion': ['gini', 'entropy'],\n",
    "                   'max_features': ['auto', 'sqrt', 'log2'],\n",
    "                   'class_weight': ['balanced', 'balanced_subsample']}]\n",
    "    \n",
    "    clf        = RandomForestClassifier()\n",
    "    model      = GridSearchCV(clf, parameters, scoring = 'accuracy').fit(X_train, y_train)\n",
    "    \n",
    "    # cross-validation scores\n",
    "    #cv_scores = cross_val_score(model, features, labels, cv = 10)\n",
    "    cv_scores  = range(10)\n",
    "    \n",
    "    # model scores\n",
    "    scores    = get_model_scores(model, X_test, y_test)\n",
    "\n",
    "    return cv_scores, scores"
   ]
  },
  {
   "cell_type": "markdown",
   "metadata": {},
   "source": [
    "##### Função Geral"
   ]
  },
  {
   "cell_type": "code",
   "execution_count": 19,
   "metadata": {},
   "outputs": [],
   "source": [
    "def define_model(features, labels, classifier):\n",
    "    \n",
    "    if classifier == 'svm':\n",
    "        return train_with_SVM(features, labels)\n",
    "    \n",
    "    else:\n",
    "        return train_with_RF(features, labels)"
   ]
  },
  {
   "cell_type": "markdown",
   "metadata": {},
   "source": [
    "### #7 HyperOpt!"
   ]
  },
  {
   "cell_type": "markdown",
   "metadata": {},
   "source": [
    "##### Função para checar se os métodos escolhidos já foram escolhidos anteriormente"
   ]
  },
  {
   "cell_type": "code",
   "execution_count": 20,
   "metadata": {},
   "outputs": [],
   "source": [
    "def not_chosen(chosen_params):\n",
    "    \n",
    "    data    = (pd.read_csv('results.csv', sep = ';')).reset_index()\n",
    "    methods = data.iloc[:, 0].values\n",
    "    \n",
    "    for method in methods:\n",
    "        if method == chosen_params:\n",
    "            return False\n",
    "    \n",
    "    return True"
   ]
  },
  {
   "cell_type": "markdown",
   "metadata": {},
   "source": [
    "##### Espaço de Busca"
   ]
  },
  {
   "cell_type": "code",
   "execution_count": 21,
   "metadata": {},
   "outputs": [],
   "source": [
    "search_space ={\n",
    "    # pre-processing: histogram equalization, clahe contrast,\n",
    "    #                 opposite colors, no pre-processing\n",
    "    'pre'    : hp.choice('pre', ['eqlze', 'clahe', 'oppcl', 'nopre']),\n",
    "    \n",
    "    # spectrum: rgb, hsv, lab\n",
    "    'esp'    : hp.choice('esp', ['rgb','hsv','Lab']),\n",
    "    \n",
    "    # mask: apply mask or not\n",
    "    'mask'   : hp.choice('mask', ['appmask', 'nopmask']),\n",
    "    \n",
    "    # color-descriptors: color histogram, dominant colors, color moments\n",
    "    'desc'   : hp.choice('desc', ['histogrm', 'dominant', 'imoments']),\n",
    "    \n",
    "    # classifier: svm or random forest\n",
    "    'class'  : hp.choice('class', ['svm', 'rfr'])\n",
    "}"
   ]
  },
  {
   "cell_type": "markdown",
   "metadata": {},
   "source": [
    "##### Função otimizadora"
   ]
  },
  {
   "cell_type": "code",
   "execution_count": 22,
   "metadata": {},
   "outputs": [],
   "source": [
    "def optimize(params):\n",
    "    chosen_params = f\"{params['pre']}_{params['esp']}_{params['mask']}_{params['desc']}_{params['class']}\"\n",
    "    print(chosen_params)\n",
    "    \n",
    "    # if the chosen params were not previously selected...\n",
    "    if(not_chosen(chosen_params)):\n",
    "        # load images\n",
    "        n_imgs, n_labels = load_images(DIR_IMGS_NORMAIS, 0)\n",
    "        p_imgs, p_labels = load_images(DIR_IMGS_PROBLEMA, 1)\n",
    "\n",
    "        # pre-processing\n",
    "        n_imgs = [apply_preprocess(img, params['pre']) for img in n_imgs]\n",
    "        p_imgs = [apply_preprocess(img, params['pre']) for img in p_imgs]\n",
    "\n",
    "        # transform spectrum\n",
    "        n_imgs = [define_spectrum(img, params['esp']) for img in n_imgs]\n",
    "        p_imgs = [define_spectrum(img, params['esp']) for img in p_imgs]\n",
    "\n",
    "        # apply mask (or not)\n",
    "        if params['mask'] == 'appmask':\n",
    "            n_imgs = apply_masks(n_imgs, DIR_MARCACOES_NORMAIS)\n",
    "            p_imgs = apply_masks(p_imgs, DIR_MARCACOES_PROBLEMA)\n",
    "\n",
    "        # concat vectors\n",
    "        imgs   = n_imgs + p_imgs\n",
    "        labels = n_labels + p_labels\n",
    "\n",
    "        # full features vector\n",
    "        features = []\n",
    "\n",
    "        # extract features\n",
    "        for img in imgs:\n",
    "            feats = apply_color_descriptor(img, params['desc'])\n",
    "            features.append(feats)\n",
    "\n",
    "        # model creation and score calculation : take some time...\n",
    "        cv_scores, scores = define_model(features, labels, params['class'])\n",
    "\n",
    "        # save scores\n",
    "        acc               = save_results(chosen_params, cv_scores, scores)\n",
    "        return 1 - acc\n",
    "    \n",
    "    return 1 - 0.74"
   ]
  },
  {
   "cell_type": "markdown",
   "metadata": {},
   "source": [
    "##### MAIN!"
   ]
  },
  {
   "cell_type": "code",
   "execution_count": null,
   "metadata": {},
   "outputs": [
    {
     "name": "stdout",
     "output_type": "stream",
     "text": [
      "clahe_Lab_appmask_dominant_rfr                                                                                         \n",
      "clahe_hsv_nopmask_imoments_svm                                                                                         \n",
      "  2%|▉                                            | 1/50 [01:59<1:37:53, 119.86s/trial, best loss: 0.20512820512820518]"
     ]
    }
   ],
   "source": [
    "def main():\n",
    "    while True:\n",
    "        best = fmin(optimize, search_space, algo = tpe.suggest, max_evals = 50)\n",
    "        \n",
    "main()"
   ]
  }
 ],
 "metadata": {
  "kernelspec": {
   "display_name": "Python 3",
   "language": "python",
   "name": "python3"
  },
  "language_info": {
   "codemirror_mode": {
    "name": "ipython",
    "version": 3
   },
   "file_extension": ".py",
   "mimetype": "text/x-python",
   "name": "python",
   "nbconvert_exporter": "python",
   "pygments_lexer": "ipython3",
   "version": "3.8.5"
  }
 },
 "nbformat": 4,
 "nbformat_minor": 4
}
